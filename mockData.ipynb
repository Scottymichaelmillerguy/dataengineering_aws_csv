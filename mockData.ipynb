{
 "cells": [
  {
   "cell_type": "code",
   "execution_count": 3,
   "id": "08993bf1",
   "metadata": {},
   "outputs": [
    {
     "name": "stdout",
     "output_type": "stream",
     "text": [
      "c:\\Users\\scott\\OneDrive\\Cloud Computing Files\\data_engineering_intro\\dataengineering_aws_csv\n",
      "c:\\Users\\scott\\OneDrive\\Cloud Computing Files\\data_engineering_intro\\dataengineering_aws_csv\\MOCK_DATA.csv\n",
      "{'id': 'int', 'first_name': 'string', 'last_name': 'string', 'email': 'string', 'gender': 'string', 'ip_address': 'string'}\n"
     ]
    }
   ],
   "source": [
    "import csv\n",
    "import os \n",
    "print(os.getcwd())\n",
    "folder = str(os.getcwd())\n",
    "def get_csv_schema(file_path):\n",
    "    with open(file_path, 'r') as file:\n",
    "        reader = csv.reader(file)\n",
    "        header = next(reader)  # Get the header row\n",
    "        data_types = []\n",
    "        for i, column_name in enumerate(header):\n",
    "            try:\n",
    "                # Attempt to convert data in the first row to int, float, etc.\n",
    "                first_row = next(reader)\n",
    "                _ = int(first_row[i])\n",
    "                data_types.append(\"int\")\n",
    "            except ValueError:\n",
    "                try:\n",
    "                    _ = float(first_row[i])\n",
    "                    data_types.append(\"float\")\n",
    "                except ValueError:\n",
    "                     data_types.append(\"string\")\n",
    "            finally:\n",
    "                file.seek(0)\n",
    "                next(reader) # Reset reader to the second row for next use\n",
    "        return dict(zip(header, data_types))\n",
    "\n",
    "# Example usage:\n",
    "# \"C:\\\\Users\\\\scott\\\\Downloads\\\\MOCK_DATA.csv\"\n",
    "file = '\\MOCK_DATA.csv'\n",
    "file_path = folder +  file\n",
    "print(file_path)\n",
    "schema = get_csv_schema(file_path)\n",
    "print(schema)"
   ]
  },
  {
   "cell_type": "markdown",
   "id": "1812b1fe",
   "metadata": {},
   "source": [
    "## Upload file to S3 bucket"
   ]
  },
  {
   "cell_type": "code",
   "execution_count": 4,
   "id": "540b1020",
   "metadata": {},
   "outputs": [
    {
     "name": "stdout",
     "output_type": "stream",
     "text": [
      "Collecting boto3\n",
      "  Downloading boto3-1.38.16-py3-none-any.whl.metadata (6.6 kB)\n",
      "Collecting botocore<1.39.0,>=1.38.16 (from boto3)\n",
      "  Downloading botocore-1.38.16-py3-none-any.whl.metadata (5.7 kB)\n",
      "Requirement already satisfied: jmespath<2.0.0,>=0.7.1 in c:\\users\\scott\\anaconda3\\lib\\site-packages (from boto3) (1.0.1)\n",
      "Collecting s3transfer<0.13.0,>=0.12.0 (from boto3)\n",
      "  Downloading s3transfer-0.12.0-py3-none-any.whl.metadata (1.7 kB)\n",
      "Requirement already satisfied: python-dateutil<3.0.0,>=2.1 in c:\\users\\scott\\appdata\\roaming\\python\\python311\\site-packages (from botocore<1.39.0,>=1.38.16->boto3) (2.9.0.post0)\n",
      "Requirement already satisfied: urllib3!=2.2.0,<3,>=1.25.4 in c:\\users\\scott\\anaconda3\\lib\\site-packages (from botocore<1.39.0,>=1.38.16->boto3) (2.0.7)\n",
      "Requirement already satisfied: six>=1.5 in c:\\users\\scott\\appdata\\roaming\\python\\python311\\site-packages (from python-dateutil<3.0.0,>=2.1->botocore<1.39.0,>=1.38.16->boto3) (1.16.0)\n",
      "Downloading boto3-1.38.16-py3-none-any.whl (139 kB)\n",
      "   ---------------------------------------- 0.0/139.9 kB ? eta -:--:--\n",
      "   -------- ------------------------------ 30.7/139.9 kB 660.6 kB/s eta 0:00:01\n",
      "   -------------------------------------- - 133.1/139.9 kB 1.6 MB/s eta 0:00:01\n",
      "   ---------------------------------------- 139.9/139.9 kB 1.4 MB/s eta 0:00:00\n",
      "Downloading botocore-1.38.16-py3-none-any.whl (13.6 MB)\n",
      "   ---------------------------------------- 0.0/13.6 MB ? eta -:--:--\n",
      "   - -------------------------------------- 0.4/13.6 MB 11.2 MB/s eta 0:00:02\n",
      "   -- ------------------------------------- 1.0/13.6 MB 15.2 MB/s eta 0:00:01\n",
      "   ------- -------------------------------- 2.7/13.6 MB 21.2 MB/s eta 0:00:01\n",
      "   -------------- ------------------------- 4.9/13.6 MB 28.3 MB/s eta 0:00:01\n",
      "   ---------------------- ----------------- 7.6/13.6 MB 37.4 MB/s eta 0:00:01\n",
      "   ------------------------------ --------- 10.4/13.6 MB 43.5 MB/s eta 0:00:01\n",
      "   -------------------------------------- - 13.1/13.6 MB 65.6 MB/s eta 0:00:01\n",
      "   ---------------------------------------- 13.6/13.6 MB 50.4 MB/s eta 0:00:00\n",
      "Downloading s3transfer-0.12.0-py3-none-any.whl (84 kB)\n",
      "   ---------------------------------------- 0.0/84.8 kB ? eta -:--:--\n",
      "   ---------------------------------------- 84.8/84.8 kB 4.7 MB/s eta 0:00:00\n",
      "Installing collected packages: botocore, s3transfer, boto3\n",
      "  Attempting uninstall: botocore\n",
      "    Found existing installation: botocore 1.31.64\n",
      "    Uninstalling botocore-1.31.64:\n",
      "      Successfully uninstalled botocore-1.31.64\n",
      "Successfully installed boto3-1.38.16 botocore-1.38.16 s3transfer-0.12.0\n",
      "Note: you may need to restart the kernel to use updated packages.\n"
     ]
    },
    {
     "name": "stderr",
     "output_type": "stream",
     "text": [
      "ERROR: pip's dependency resolver does not currently take into account all the packages that are installed. This behaviour is the source of the following dependency conflicts.\n",
      "aiobotocore 2.7.0 requires botocore<1.31.65,>=1.31.16, but you have botocore 1.38.16 which is incompatible.\n"
     ]
    }
   ],
   "source": [
    "pip install boto3"
   ]
  },
  {
   "cell_type": "code",
   "execution_count": null,
   "id": "4bc3d761",
   "metadata": {},
   "outputs": [],
   "source": [
    "import logging \n",
    "import boto3 \n",
    "from botocore.exceptions import ClientError \n",
    "import os \n",
    "\n",
    "def upload_file(file_name, bucket, object_name=None):\n",
    "    \"\"\"Upload a file to an S3 bucket\n",
    "    \n",
    "    :param file_name: File to upload\n",
    "    param bucket: Bucket to upload to\n",
    "    param object_name: S3 object name. If not specified then file_name is used\n",
    "    :return: True if file was uploaded, else False\n",
    "    \"\"\"\n",
    "\n",
    "    # If S3 object_name was not specified, use file_name\n",
    "    if object_name is None:\n",
    "        object_name = os.path.basename(file_name)\n",
    "        print(object_name)\n",
    "    # Upload the file\n",
    "    s3_client = boto3.client('s3')\n",
    "    try:\n",
    "        # Upload the file to s3 bucket\n",
    "        response = s3_client.upload_file(file_name, bucket, object_name)\n",
    "        print(bucket)\n",
    "    except ClientError as e:\n",
    "        logging.error(e)\n",
    "        return False\n",
    "    return True\n"
   ]
  },
  {
   "cell_type": "code",
   "execution_count": 7,
   "id": "ef478c0f",
   "metadata": {},
   "outputs": [
    {
     "name": "stdout",
     "output_type": "stream",
     "text": [
      "MOCK_DATA.csv\n",
      "scottsmockdata\n"
     ]
    },
    {
     "data": {
      "text/plain": [
       "True"
      ]
     },
     "execution_count": 7,
     "metadata": {},
     "output_type": "execute_result"
    }
   ],
   "source": [
    "#time to upload the file\n",
    "upload_file('MOCK_DATA.csv', 'scottsmockdata')"
   ]
  },
  {
   "cell_type": "code",
   "execution_count": 17,
   "id": "1718fea5",
   "metadata": {},
   "outputs": [
    {
     "name": "stdout",
     "output_type": "stream",
     "text": [
      "Collecting psycopg2\n",
      "  Obtaining dependency information for psycopg2 from https://files.pythonhosted.org/packages/33/39/5a9a229bb5414abeb86e33b8fc8143ab0aecce5a7f698a53e31367d30caa/psycopg2-2.9.10-cp311-cp311-win_amd64.whl.metadata\n",
      "  Downloading psycopg2-2.9.10-cp311-cp311-win_amd64.whl.metadata (5.0 kB)\n",
      "Downloading psycopg2-2.9.10-cp311-cp311-win_amd64.whl (1.2 MB)\n",
      "   ---------------------------------------- 0.0/1.2 MB ? eta -:--:--\n",
      "   ---------------------------------------- 0.0/1.2 MB ? eta -:--:--\n",
      "   - -------------------------------------- 0.0/1.2 MB 487.6 kB/s eta 0:00:03\n",
      "   ---- ----------------------------------- 0.1/1.2 MB 1.2 MB/s eta 0:00:01\n",
      "   --------------------- ------------------ 0.6/1.2 MB 4.0 MB/s eta 0:00:01\n",
      "   ---------------------------------------- 1.2/1.2 MB 6.1 MB/s eta 0:00:00\n",
      "Installing collected packages: psycopg2\n",
      "Successfully installed psycopg2-2.9.10\n",
      "Note: you may need to restart the kernel to use updated packages.\n"
     ]
    },
    {
     "name": "stderr",
     "output_type": "stream",
     "text": [
      "\n",
      "[notice] A new release of pip is available: 23.2.1 -> 25.0.1\n",
      "[notice] To update, run: python.exe -m pip install --upgrade pip\n"
     ]
    }
   ],
   "source": [
    "pip install psycopg2"
   ]
  },
  {
   "cell_type": "code",
   "execution_count": 1,
   "id": "766c745f",
   "metadata": {},
   "outputs": [
    {
     "name": "stdout",
     "output_type": "stream",
     "text": [
      "Requirement already satisfied: mysql-connector-python in c:\\users\\scott\\appdata\\local\\programs\\python\\python311\\lib\\site-packages (8.3.0)\n",
      "Note: you may need to restart the kernel to use updated packages.\n"
     ]
    },
    {
     "name": "stderr",
     "output_type": "stream",
     "text": [
      "\n",
      "[notice] A new release of pip is available: 23.2.1 -> 25.1.1\n",
      "[notice] To update, run: python.exe -m pip install --upgrade pip\n"
     ]
    }
   ],
   "source": [
    "pip install mysql-connector-python"
   ]
  },
  {
   "cell_type": "code",
   "execution_count": 14,
   "id": "4cbd6e66",
   "metadata": {},
   "outputs": [],
   "source": [
    "import pymysql \n",
    "import boto3\n",
    "import pandas as pd\n",
    "import io\n",
    "from io import StringIO\n",
    "\n",
    "# AWS S3 setup\n",
    "s3 = boto3.client('s3')\n",
    "bucket_name = 'scottsmockdata'\n",
    "file_key = 'MOCK_DATA.csv'\n",
    "\n",
    "# Get the file object\n",
    "response = s3.get_object(Bucket = bucket_name, Key=file_key)\n",
    "csv_content = response['Body'].read().decode('utf-8')\n",
    "data = pd.read_csv(StringIO(csv_content)) "
   ]
  },
  {
   "cell_type": "code",
   "execution_count": 15,
   "id": "1df49a84",
   "metadata": {},
   "outputs": [
    {
     "data": {
      "text/html": [
       "<div>\n",
       "<style scoped>\n",
       "    .dataframe tbody tr th:only-of-type {\n",
       "        vertical-align: middle;\n",
       "    }\n",
       "\n",
       "    .dataframe tbody tr th {\n",
       "        vertical-align: top;\n",
       "    }\n",
       "\n",
       "    .dataframe thead th {\n",
       "        text-align: right;\n",
       "    }\n",
       "</style>\n",
       "<table border=\"1\" class=\"dataframe\">\n",
       "  <thead>\n",
       "    <tr style=\"text-align: right;\">\n",
       "      <th></th>\n",
       "      <th>id</th>\n",
       "      <th>first_name</th>\n",
       "      <th>last_name</th>\n",
       "      <th>email</th>\n",
       "      <th>gender</th>\n",
       "      <th>ip_address</th>\n",
       "    </tr>\n",
       "  </thead>\n",
       "  <tbody>\n",
       "    <tr>\n",
       "      <th>0</th>\n",
       "      <td>1</td>\n",
       "      <td>Ange</td>\n",
       "      <td>Pettecrew</td>\n",
       "      <td>apettecrew0@netlog.com</td>\n",
       "      <td>Male</td>\n",
       "      <td>11.63.29.83</td>\n",
       "    </tr>\n",
       "    <tr>\n",
       "      <th>1</th>\n",
       "      <td>2</td>\n",
       "      <td>Amber</td>\n",
       "      <td>Mariyushkin</td>\n",
       "      <td>amariyushkin1@usgs.gov</td>\n",
       "      <td>Female</td>\n",
       "      <td>29.21.15.63</td>\n",
       "    </tr>\n",
       "    <tr>\n",
       "      <th>2</th>\n",
       "      <td>3</td>\n",
       "      <td>King</td>\n",
       "      <td>Belliss</td>\n",
       "      <td>kbelliss2@wunderground.com</td>\n",
       "      <td>Male</td>\n",
       "      <td>123.99.118.36</td>\n",
       "    </tr>\n",
       "    <tr>\n",
       "      <th>3</th>\n",
       "      <td>4</td>\n",
       "      <td>Lelah</td>\n",
       "      <td>Fearnyough</td>\n",
       "      <td>lfearnyough3@mozilla.com</td>\n",
       "      <td>Female</td>\n",
       "      <td>178.55.249.67</td>\n",
       "    </tr>\n",
       "    <tr>\n",
       "      <th>4</th>\n",
       "      <td>5</td>\n",
       "      <td>Berthe</td>\n",
       "      <td>Loding</td>\n",
       "      <td>bloding4@wikispaces.com</td>\n",
       "      <td>Female</td>\n",
       "      <td>218.241.0.225</td>\n",
       "    </tr>\n",
       "  </tbody>\n",
       "</table>\n",
       "</div>"
      ],
      "text/plain": [
       "   id first_name    last_name                       email  gender  \\\n",
       "0   1       Ange    Pettecrew      apettecrew0@netlog.com    Male   \n",
       "1   2      Amber  Mariyushkin      amariyushkin1@usgs.gov  Female   \n",
       "2   3       King      Belliss  kbelliss2@wunderground.com    Male   \n",
       "3   4      Lelah   Fearnyough    lfearnyough3@mozilla.com  Female   \n",
       "4   5     Berthe       Loding     bloding4@wikispaces.com  Female   \n",
       "\n",
       "      ip_address  \n",
       "0    11.63.29.83  \n",
       "1    29.21.15.63  \n",
       "2  123.99.118.36  \n",
       "3  178.55.249.67  \n",
       "4  218.241.0.225  "
      ]
     },
     "execution_count": 15,
     "metadata": {},
     "output_type": "execute_result"
    }
   ],
   "source": [
    "data.head(5)"
   ]
  },
  {
   "cell_type": "code",
   "execution_count": 5,
   "id": "b64698d5",
   "metadata": {},
   "outputs": [],
   "source": [
    "import mysql.connector"
   ]
  },
  {
   "cell_type": "code",
   "execution_count": 18,
   "id": "073d4cea",
   "metadata": {},
   "outputs": [
    {
     "name": "stdout",
     "output_type": "stream",
     "text": [
      "[]\n"
     ]
    }
   ],
   "source": [
    "mydb = mysql.connector.connect(\n",
    "    host=\"testdb.cmxsoes6mcz5.us-east-1.rds.amazonaws.com\",\n",
    "    user=\"admin\",\n",
    "    password=\"Scampers123!\",\n",
    "    database=\"testdb\"\n",
    ")\n",
    "mycursor = mydb.cursor()\n",
    "\n",
    "mycursor.execute(\"SELECT * FROM testtable\")\n",
    "myresult = mycursor.fetchall()\n",
    "print(myresult)\n",
    "mycursor.execute(\"DROP TABLE IF EXISTS mockdatatable\")\n",
    "mycursor.execute(\"CREATE TABLE mockdatatable (id int, first_name varchar(255), last_name varchar(255), email varchar(255), gender varchar(255), ip_address varchar(255))\")\n",
    "for _, row in data.iterrows():\n",
    "    sql = \"INSERT INTO mockdatatable (id, first_name, last_name, email, gender, ip_address) VALUES (%s, %s, %s, %s, %s, %s)\"\n",
    "    values = (row['id'], row['first_name'], row['last_name'], row['email'], row['gender'], row['ip_address'])\n",
    "    mycursor.execute(sql, values)\n",
    "\n",
    "mydb.commit()"
   ]
  },
  {
   "cell_type": "code",
   "execution_count": null,
   "id": "f8640fef",
   "metadata": {},
   "outputs": [],
   "source": []
  },
  {
   "cell_type": "code",
   "execution_count": null,
   "id": "c8640808",
   "metadata": {},
   "outputs": [],
   "source": [
    "{'id': 'int', 'first_name': 'string', 'last_name': 'string', 'email': 'string', 'gender': 'string', 'ip_address': 'string'}"
   ]
  }
 ],
 "metadata": {
  "kernelspec": {
   "display_name": "Python 3",
   "language": "python",
   "name": "python3"
  },
  "language_info": {
   "codemirror_mode": {
    "name": "ipython",
    "version": 3
   },
   "file_extension": ".py",
   "mimetype": "text/x-python",
   "name": "python",
   "nbconvert_exporter": "python",
   "pygments_lexer": "ipython3",
   "version": "3.11.5"
  }
 },
 "nbformat": 4,
 "nbformat_minor": 5
}
