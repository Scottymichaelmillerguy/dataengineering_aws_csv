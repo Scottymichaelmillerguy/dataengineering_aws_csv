{
 "cells": [
  {
   "cell_type": "code",
   "execution_count": 1,
   "id": "08993bf1",
   "metadata": {},
   "outputs": [
    {
     "name": "stdout",
     "output_type": "stream",
     "text": [
      "{'id': 'int', 'first_name': 'string', 'last_name': 'string', 'email': 'string', 'gender': 'string', 'ip_address': 'string'}\n"
     ]
    }
   ],
   "source": [
    "import csv\n",
    "\n",
    "def get_csv_schema(file_path):\n",
    "    with open(file_path, 'r') as file:\n",
    "        reader = csv.reader(file)\n",
    "        header = next(reader)  # Get the header row\n",
    "        data_types = []\n",
    "        for i, column_name in enumerate(header):\n",
    "            try:\n",
    "                # Attempt to convert data in the first row to int, float, etc.\n",
    "                first_row = next(reader)\n",
    "                _ = int(first_row[i])\n",
    "                data_types.append(\"int\")\n",
    "            except ValueError:\n",
    "                try:\n",
    "                    _ = float(first_row[i])\n",
    "                    data_types.append(\"float\")\n",
    "                except ValueError:\n",
    "                     data_types.append(\"string\")\n",
    "            finally:\n",
    "                file.seek(0)\n",
    "                next(reader) # Reset reader to the second row for next use\n",
    "        return dict(zip(header, data_types))\n",
    "\n",
    "# Example usage:\n",
    "# \"C:\\\\Users\\\\scott\\\\Downloads\\\\MOCK_DATA.csv\"\n",
    "file_path = 'C:\\\\Users\\\\scott\\\\Downloads\\\\MOCK_DATA.csv'\n",
    "schema = get_csv_schema(file_path)\n",
    "print(schema)"
   ]
  },
  {
   "cell_type": "code",
   "execution_count": null,
   "id": "4bc3d761",
   "metadata": {},
   "outputs": [],
   "source": []
  }
 ],
 "metadata": {
  "kernelspec": {
   "display_name": "Python 3",
   "language": "python",
   "name": "python3"
  },
  "language_info": {
   "codemirror_mode": {
    "name": "ipython",
    "version": 3
   },
   "file_extension": ".py",
   "mimetype": "text/x-python",
   "name": "python",
   "nbconvert_exporter": "python",
   "pygments_lexer": "ipython3",
   "version": "3.11.5"
  }
 },
 "nbformat": 4,
 "nbformat_minor": 5
}
